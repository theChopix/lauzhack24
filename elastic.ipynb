{
 "cells": [
  {
   "cell_type": "code",
   "execution_count": 2,
   "metadata": {},
   "outputs": [],
   "source": [
    "import pandas as pd\n",
    "import numpy as np\n",
    "import torch\n",
    "import torch.nn.functional as F\n",
    "import sys\n",
    "sys.setrecursionlimit(110000)"
   ]
  },
  {
   "cell_type": "code",
   "execution_count": 4,
   "metadata": {},
   "outputs": [
    {
     "name": "stdout",
     "output_type": "stream",
     "text": [
      "11464\n",
      "1511754\n"
     ]
    }
   ],
   "source": [
    "booking_train = pd.read_csv('../data/account_booking_train.csv')\n",
    "print(len(booking_train))\n",
    "booking_test = pd.read_csv('../data/account_booking_test.csv')\n",
    "print(len(booking_test))\n",
    "\n",
    "# booking_train = pd.concat([booking_train,booking_test])\n",
    "external_parties_train = pd.read_csv('../data/external_parties_train.csv')\n",
    "y = external_parties_train['external_id']\n",
    "external_parties_train.drop(['external_id'],axis=1)\n",
    "\n",
    "external_parties_test = pd.read_csv('../data/external_parties_test.csv')\n",
    "\n",
    "# external_parties_train = pd.concat([external_parties_train,external_parties_test])\n"
   ]
  },
  {
   "cell_type": "code",
   "execution_count": 6,
   "metadata": {},
   "outputs": [],
   "source": [
    "# from sentence_transformers import SentenceTransformer\n",
    "# model = SentenceTransformer('all-MiniLM-L6-v2',device='cuda')  # Model SBERT\n",
    "# # try to encode unparsed column\n",
    "# embeddings = model.encode(external_parties_train['party_info_unstructured'],show_progress_bar=True)\n",
    "embeddings = np.load('../test_embeddings.npy')"
   ]
  },
  {
   "cell_type": "code",
   "execution_count": 7,
   "metadata": {},
   "outputs": [],
   "source": [
    "from sklearn.decomposition import PCA\n",
    "pca = PCA(n_components=32).fit(embeddings)\n",
    "r_emb = pca.transform(embeddings)\n"
   ]
  },
  {
   "cell_type": "code",
   "execution_count": 29,
   "metadata": {},
   "outputs": [],
   "source": [
    "sorted_ideces = external_parties_test.sort_values(['parsed_name']).index\n",
    "sorted_ideces_location = external_parties_test.sort_values(['parsed_address_country','parsed_address_state','parsed_address_city','parsed_address_street_name']).index\n",
    "ord_emb = torch.tensor(r_emb[sorted_ideces])\n",
    "ord_location_emb = torch.tensor(r_emb[sorted_ideces_location])\n"
   ]
  },
  {
   "cell_type": "code",
   "execution_count": 41,
   "metadata": {},
   "outputs": [
    {
     "name": "stderr",
     "output_type": "stream",
     "text": [
      "/tmp/ipykernel_269134/1429466793.py:20: UserWarning: The use of `x.T` on tensors of dimension other than 2 to reverse their shape is deprecated and it will throw an error in a future release. Consider `x.mT` to transpose batches of matrices or `x.permute(*torch.arange(x.ndim - 1, -1, -1))` to reverse the dimensions of a tensor. (Triggered internally at ../aten/src/ATen/native/TensorShape.cpp:3683.)\n",
      "  output[i] = torch.mm(cur_emb,cur_emb.T).triu()\n"
     ]
    },
    {
     "ename": "RuntimeError",
     "evalue": "self must be a matrix",
     "output_type": "error",
     "traceback": [
      "\u001b[0;31m---------------------------------------------------------------------------\u001b[0m",
      "\u001b[0;31mRuntimeError\u001b[0m                              Traceback (most recent call last)",
      "Cell \u001b[0;32mIn[41], line 20\u001b[0m\n\u001b[1;32m     17\u001b[0m     cur_norm \u001b[38;5;241m=\u001b[39m torch\u001b[38;5;241m.\u001b[39mnorm(torch\u001b[38;5;241m.\u001b[39mstack([ord_emb[i:i\u001b[38;5;241m+\u001b[39mk],ord_location_emb[location_x_mid\u001b[38;5;241m-\u001b[39mk\u001b[38;5;241m/\u001b[39m\u001b[38;5;241m/\u001b[39m\u001b[38;5;241m2\u001b[39m:location_x_mid\u001b[38;5;241m+\u001b[39mk\u001b[38;5;241m/\u001b[39m\u001b[38;5;241m/\u001b[39m\u001b[38;5;241m2\u001b[39m]]), dim\u001b[38;5;241m=\u001b[39m\u001b[38;5;241m1\u001b[39m, keepdim\u001b[38;5;241m=\u001b[39m\u001b[38;5;28;01mTrue\u001b[39;00m)\n\u001b[1;32m     19\u001b[0m     cur_emb \u001b[38;5;241m=\u001b[39m torch\u001b[38;5;241m.\u001b[39mstack([ord_emb[i:i\u001b[38;5;241m+\u001b[39mk],ord_location_emb[location_x_mid\u001b[38;5;241m-\u001b[39mk\u001b[38;5;241m/\u001b[39m\u001b[38;5;241m/\u001b[39m\u001b[38;5;241m2\u001b[39m:location_x_mid\u001b[38;5;241m+\u001b[39mk\u001b[38;5;241m/\u001b[39m\u001b[38;5;241m/\u001b[39m\u001b[38;5;241m2\u001b[39m]]) \u001b[38;5;241m/\u001b[39m cur_norm  \u001b[38;5;66;03m# Shape (n, d)\u001b[39;00m\n\u001b[0;32m---> 20\u001b[0m     output[i] \u001b[38;5;241m=\u001b[39m torch\u001b[38;5;241m.\u001b[39mmm(cur_emb,cur_emb\u001b[38;5;241m.\u001b[39mT)\u001b[38;5;241m.\u001b[39mtriu()\n\u001b[1;32m     21\u001b[0m     output[i]\u001b[38;5;241m.\u001b[39mfill_diagonal_(\u001b[38;5;241m0\u001b[39m)\n\u001b[1;32m     23\u001b[0m indece_matrix \u001b[38;5;241m=\u001b[39m torch\u001b[38;5;241m.\u001b[39mcat(indece_matrix)\u001b[38;5;241m.\u001b[39mview(\u001b[38;5;241m-\u001b[39m\u001b[38;5;241m1\u001b[39m,\u001b[38;5;241m2\u001b[39m\u001b[38;5;241m*\u001b[39mk,\u001b[38;5;241m2\u001b[39m\u001b[38;5;241m*\u001b[39mk,\u001b[38;5;241m2\u001b[39m)\n",
      "\u001b[0;31mRuntimeError\u001b[0m: self must be a matrix"
     ]
    }
   ],
   "source": [
    "k = 10\n",
    "n = len(ord_emb)\n",
    "output = torch.zeros([n-k,k,k])\n",
    "indece_matrix = []\n",
    "for i in range(n-k):\n",
    "    x_mid = sorted_ideces[i+k//2]\n",
    "    location_x_mid = sorted_ideces_location.get_loc(x_mid)\n",
    "    x = torch.tensor(sorted_ideces[i:i+k])\n",
    "    x_loc = torch.tensor(sorted_ideces_location[location_x_mid-k//2:location_x_mid+k//2])\n",
    "\n",
    "    full_x = torch.cat([x,x_loc]).repeat_interleave(2*k).flatten()\n",
    "    full_y =  full_x.view(2*k,2*k).T.flatten()\n",
    "    # y = x.view(k,k).T.flatten()\n",
    "    # y_loc = x_loc.view(k,k).T.flatten()\n",
    "    indece_matrix.append(torch.stack([full_x,full_y]).T.view(2*k,2*k,-1))\n",
    "\n",
    "    cur_norm = torch.norm(torch.stack([ord_emb[i:i+k],ord_location_emb[location_x_mid-k//2:location_x_mid+k//2]]), dim=1, keepdim=True)\n",
    "\n",
    "    cur_emb = torch.stack([ord_emb[i:i+k],ord_location_emb[location_x_mid-k//2:location_x_mid+k//2]]) / cur_norm  # Shape (n, d)\n",
    "    output[i] = torch.mm(cur_emb,cur_emb.T).triu()\n",
    "    output[i].fill_diagonal_(0)\n",
    "\n",
    "indece_matrix = torch.cat(indece_matrix).view(-1,2*k,2*k,2)"
   ]
  },
  {
   "cell_type": "code",
   "execution_count": 11,
   "metadata": {},
   "outputs": [],
   "source": [
    "# torch.save(output,'similiarity_output_72.tp')\n",
    "# output_name = torch.load('similiarity_output.tp')\n",
    "output_name = output"
   ]
  },
  {
   "cell_type": "code",
   "execution_count": 12,
   "metadata": {},
   "outputs": [],
   "source": [
    "threshold = 0.9\n",
    "merger_list = torch.unique(indece_matrix[(output_name.abs()>0.9)],dim=0)\n",
    "# merger_list_location = torch.unique(indece_matrix[(output.abs()>threshold)],dim=0)\n",
    "# torch.save(merger_list_location,'similiarity_output_locality.tp')"
   ]
  },
  {
   "cell_type": "code",
   "execution_count": 197,
   "metadata": {},
   "outputs": [],
   "source": [
    "# full_merger_list = torch.cat([merger_list,merger_list_location])"
   ]
  },
  {
   "cell_type": "code",
   "execution_count": 14,
   "metadata": {},
   "outputs": [],
   "source": [
    "class Graph:\n",
    "    # init function to declare class variables\n",
    "    def __init__(self, V):\n",
    "        self.V = V\n",
    "        self.adj = {}\n",
    "        for v in V:\n",
    "            self.adj[v] = []\n",
    " \n",
    "    def DFSUtil(self, temp, v, visited):\n",
    " \n",
    "        # Mark the current vertex as visited\n",
    "        visited[v] = True\n",
    " \n",
    "        # Store the vertex to list\n",
    "        temp.append(v)\n",
    " \n",
    "        # Repeat for all vertices adjacent\n",
    "        # to this vertex v\n",
    "        for i in self.adj[v]:\n",
    "            if visited[i] == False:\n",
    " \n",
    "                # Update the list\n",
    "                temp = self.DFSUtil(temp, i, visited)\n",
    "        return temp\n",
    " \n",
    "    # method to add an undirected edge\n",
    "    def addEdge(self, v, w):\n",
    "        self.adj[v].append(w)\n",
    "        self.adj[w].append(v)\n",
    " \n",
    "    # Method to retrieve connected components\n",
    "    # in an undirected graph\n",
    "    def connectedComponents(self):\n",
    "        visited = {}\n",
    "        cc = []\n",
    "        for i in self.V:\n",
    "            visited[i] = False\n",
    "        for v in self.V:\n",
    "            if visited[v] == False:\n",
    "                temp = []\n",
    "                cc.append(self.DFSUtil(temp, v, visited))\n",
    "        return cc"
   ]
  },
  {
   "cell_type": "code",
   "execution_count": 15,
   "metadata": {},
   "outputs": [
    {
     "data": {
      "application/vnd.jupyter.widget-view+json": {
       "model_id": "ac1a04f21d484e6783e3064a36925649",
       "version_major": 2,
       "version_minor": 0
      },
      "text/plain": [
       "0it [00:00, ?it/s]"
      ]
     },
     "metadata": {},
     "output_type": "display_data"
    }
   ],
   "source": [
    "from tqdm.notebook import tqdm\n",
    "\n",
    "g = Graph(np.arange(len(external_parties_test)))\n",
    "\n",
    "for idx, (a,b) in tqdm(enumerate(merger_list.numpy())):\n",
    "    g.addEdge(a,b)\n",
    "\n",
    "iban_map = {}\n",
    "for idx, e in external_parties_test.iterrows():\n",
    "    if(not iban_map.get(e['party_iban'])):\n",
    "        iban_map[iban_map.get(e['party_iban'])] = idx\n",
    "    else:\n",
    "        g.addEdge(idx,iban_map[e['party_iban']])\n",
    "\n",
    "\n",
    "c = g.connectedComponents()"
   ]
  },
  {
   "cell_type": "code",
   "execution_count": 16,
   "metadata": {},
   "outputs": [],
   "source": [
    "pred_id = np.arange(30000,30000+len(external_parties_test))\n",
    "\n",
    "for idx, c_i in enumerate(c):\n",
    "    for c_j in c_i:\n",
    "        pred_id[c_j] = pred_id[c_i[0]]"
   ]
  },
  {
   "cell_type": "code",
   "execution_count": 22,
   "metadata": {},
   "outputs": [
    {
     "data": {
      "text/plain": [
       "1347381"
      ]
     },
     "execution_count": 22,
     "metadata": {},
     "output_type": "execute_result"
    }
   ],
   "source": [
    "np.unique(pred_id).size"
   ]
  },
  {
   "cell_type": "code",
   "execution_count": 18,
   "metadata": {},
   "outputs": [],
   "source": [
    "from  test_predictions import  evaluate_datasets\n",
    "\n",
    "dict_ = {'transaction_reference_id': external_parties_test['transaction_reference_id'], 'external_id':pred_id}\n",
    "\n",
    "# pred_dict = pd.DataFrame.from_dict(dict_)\n",
    "\n",
    "# evaluate_datasets(external_parties_train,pred_dict)"
   ]
  },
  {
   "cell_type": "code",
   "execution_count": 19,
   "metadata": {},
   "outputs": [],
   "source": [
    "pd.DataFrame.from_dict(dict_).to_csv('../submission_5.csv',index=False)"
   ]
  },
  {
   "cell_type": "code",
   "execution_count": 3,
   "metadata": {},
   "outputs": [],
   "source": [
    "import re\n",
    "\n",
    "external_parties_train['party_number'] = (\n",
    "    external_parties_train['party_phone']\n",
    "    .str.replace(r'x.*$', '', regex=True)  # Removes everything after 'x' (including 'x')\n",
    "    .str.replace(r'[^0-9]', '', regex=True)  # Removes all characters that are not numbers\n",
    "    .str[:15]  # Keep only the first 15 numeric characters\n",
    ")\n",
    "\n",
    "def clean_and_deduplicate_country(country_name):\n",
    "    if pd.isna(country_name):\n",
    "        return country_name    \n",
    "    # Separare le parole e rimuovere le ripetizioni\n",
    "    words = country_name.split()\n",
    "    unique_words = set(words)  # Usa un set per rimuovere le ripetizioni\n",
    "    cleaned_country = ' '.join(sorted(unique_words))  # Ricostruire la stringa (opzionalmente ordinata)\n",
    "    return cleaned_country\n",
    "\n",
    "external_parties_train['parsed_address_country'] = external_parties_train['parsed_address_country'].str.replace(r'[().]', '', regex=True).str.replace(r'\\d+', '', regex=True)\n",
    "external_parties_train['parsed_address_country'] = external_parties_train['parsed_address_country'].apply(lambda x: clean_and_deduplicate_country(x))\n",
    "\n",
    "external_parties_train['parsed_address_street_name'] = external_parties_train['parsed_address_street_name'].str.replace(r'&', '', regex=True).str.replace(r'\\d+', '', regex=True)\n",
    "external_parties_train[['parsed_address_street_name','parsed_address_street_name']]\n",
    "\n",
    "external_parties_train = external_parties_train.fillna('0') #fill all nan with 0"
   ]
  },
  {
   "cell_type": "code",
   "execution_count": 4,
   "metadata": {},
   "outputs": [
    {
     "name": "stdout",
     "output_type": "stream",
     "text": [
      "Connected to OpenSearch\n",
      "{'name': '490add16759d594f8c790c7a745f7861', 'cluster_name': '763504090600:ubs-open-search', 'cluster_uuid': 'TjDJUiMDQ1yo01dIuz2UwQ', 'version': {'distribution': 'opensearch', 'number': '2.17.0', 'build_type': 'tar', 'build_hash': 'unknown', 'build_date': '2024-11-18T04:22:32.407132088Z', 'build_snapshot': False, 'lucene_version': '9.11.1', 'minimum_wire_compatibility_version': '7.10.0', 'minimum_index_compatibility_version': '7.0.0'}, 'tagline': 'The OpenSearch Project: https://opensearch.org/'}\n"
     ]
    },
    {
     "data": {
      "text/plain": [
       "{'_index': 'party_data',\n",
       " '_id': 'Flrof5MBXDht5Qx5-ya9',\n",
       " '_version': 1,\n",
       " 'result': 'created',\n",
       " '_shards': {'total': 3, 'successful': 3, 'failed': 0},\n",
       " '_seq_no': 119,\n",
       " '_primary_term': 1}"
      ]
     },
     "execution_count": 4,
     "metadata": {},
     "output_type": "execute_result"
    }
   ],
   "source": [
    "from opensearchpy import OpenSearch\n",
    " \n",
    "host = [{'host': 'search-ubs-open-search-qgmxboaarfs4i2p2gde7yw2xjq.aos.us-west-2.on.aws','port':443, 'schema':'https'}]\n",
    "auth = ('nemo', 'UBS@suck10')\n",
    " \n",
    "from opensearchpy import OpenSearch, RequestsHttpConnection\n",
    "\n",
    "client = OpenSearch(\n",
    "    hosts = host,\n",
    "    http_auth = auth,\n",
    "    use_ssl = True,\n",
    "    verify_certs = False,\n",
    "    ssl_show_warn = False,\n",
    "    connection_class = RequestsHttpConnection\n",
    ")\n",
    "\n",
    "try:\n",
    "    info = client.info()\n",
    "    print(\"Connected to OpenSearch\")\n",
    "    print(info)\n",
    "except Exception as e:\n",
    "    print(f\"Error connecting to OpenSearch: {e}\")\n",
    "\n",
    "\n",
    "index_name = \"party_data\"\n",
    "mapping = {\n",
    "    \"mappings\": {\n",
    "        \"properties\": {\n",
    "            \"transaction_reference_id\": {\"type\": \"keyword\"},\n",
    "            \"party_role\": {\"type\": \"text\"},\n",
    "            \"party_info_unstructured\": {\"type\": \"text\"},\n",
    "            \"parsed_name\": {\"type\": \"text\"},\n",
    "            \"parsed_address_city\": {\"type\": \"text\"},\n",
    "            \"parsed_address_country\": {\"type\": \"keyword\"},\n",
    "            \"party_iban\": {\"type\": \"keyword\"}\n",
    "        }\n",
    "    }\n",
    "}\n",
    "\n",
    "client.index(index_name,mapping)"
   ]
  },
  {
   "cell_type": "code",
   "execution_count": 5,
   "metadata": {},
   "outputs": [],
   "source": [
    "# data_json = parties_train.to_dict(orient='records')"
   ]
  },
  {
   "cell_type": "code",
   "execution_count": 6,
   "metadata": {},
   "outputs": [
    {
     "data": {
      "text/plain": [
       "(1492736, [])"
      ]
     },
     "execution_count": 6,
     "metadata": {},
     "output_type": "execute_result"
    }
   ],
   "source": [
    "from opensearchpy import OpenSearch, helpers\n",
    "\n",
    "def generate_data_for_opensearch(df, index_name):\n",
    "    for _, row in df.iterrows():\n",
    "        # print(row[['clean_parsed_address_street_name','cleaned_party_number','clean_parsed_address_country']].to_dict())\n",
    "        yield {\n",
    "            \"_op_type\": \"index\",  # The operation (indexing the document)\n",
    "            \"_index\": index_name,  # Target index\n",
    "            \"_id\": row['transaction_reference_id'],  # Optional: specify an ID\n",
    "            \"_source\": row[['parsed_address_street_name','party_number','parsed_address_country']].to_dict()  # The document data\n",
    "        }\n",
    "\n",
    "helpers.bulk(client, generate_data_for_opensearch(external_parties_train,index_name))"
   ]
  },
  {
   "cell_type": "code",
   "execution_count": 60,
   "metadata": {},
   "outputs": [],
   "source": [
    "street_name = \"villerreal keys keys suite\"  # Deliberate typo for fuzzy search\n",
    "query = {\n",
    "    \"query\": {\n",
    "        \"match\": {\n",
    "            \"parsed_address_street_name\": {\n",
    "                \"query\": street_name,\n",
    "                \"minimum_should_match\": \"97%\"  # Require all query terms to match\n",
    "            }\n",
    "        }\n",
    "    }\n",
    "}\n",
    "response = client.search(index=index_name, body=query)"
   ]
  },
  {
   "cell_type": "code",
   "execution_count": 61,
   "metadata": {},
   "outputs": [
    {
     "data": {
      "text/plain": [
       "{'took': 12,\n",
       " 'timed_out': False,\n",
       " '_shards': {'total': 5, 'successful': 5, 'skipped': 0, 'failed': 0},\n",
       " 'hits': {'total': {'value': 1156, 'relation': 'eq'},\n",
       "  'max_score': 15.099878,\n",
       "  'hits': [{'_index': 'party_data',\n",
       "    '_id': '42c5450e057982bbe3fc999647e99ec7',\n",
       "    '_score': 15.099878,\n",
       "    '_source': {'parsed_address_street_name': 'powers keys keys  suite',\n",
       "     'party_number': '0',\n",
       "     'parsed_address_country': '0'}},\n",
       "   {'_index': 'party_data',\n",
       "    '_id': '5f3fb7d8efd63125b2bfc46985c10003',\n",
       "    '_score': 15.094254,\n",
       "    '_source': {'parsed_address_street_name': 'proctof keys keys suite',\n",
       "     'party_number': '414905628217',\n",
       "     'parsed_address_country': '0'}},\n",
       "   {'_index': 'party_data',\n",
       "    '_id': '9c4e602278b8382c3086b17bc2addb31',\n",
       "    '_score': 15.09318,\n",
       "    '_source': {'parsed_address_street_name': 'villarreal keys keys suite',\n",
       "     'party_number': '0',\n",
       "     'parsed_address_country': 'dominica'}},\n",
       "   {'_index': 'party_data',\n",
       "    '_id': '29aebb7f89d3286ac74d09935c25aada',\n",
       "    '_score': 14.965834,\n",
       "    '_source': {'parsed_address_street_name': 'donna keys keys suite',\n",
       "     'party_number': '000158048220425',\n",
       "     'parsed_address_country': 'uzbekistan'}},\n",
       "   {'_index': 'party_data',\n",
       "    '_id': 'e42bd5d777fe74d3463ed84ba2ac48f0',\n",
       "    '_score': 14.965834,\n",
       "    '_source': {'parsed_address_street_name': 'powers keys keys  suite',\n",
       "     'party_number': '00416795718631',\n",
       "     'parsed_address_country': '0'}},\n",
       "   {'_index': 'party_data',\n",
       "    '_id': '7b61b0a27ad8448f7ba990a35345b448',\n",
       "    '_score': 14.543665,\n",
       "    '_source': {'parsed_address_street_name': 'keys suite',\n",
       "     'party_number': '8622409953',\n",
       "     'parsed_address_country': '0'}},\n",
       "   {'_index': 'party_data',\n",
       "    '_id': '35a5c9fc034ad1f574211671afb78ef2',\n",
       "    '_score': 14.540507,\n",
       "    '_source': {'parsed_address_street_name': 'keys suite',\n",
       "     'party_number': '015666646956011',\n",
       "     'parsed_address_country': '0'}},\n",
       "   {'_index': 'party_data',\n",
       "    '_id': 'a6a129b25ce5094a66f1343932d6daea',\n",
       "    '_score': 14.537462,\n",
       "    '_source': {'parsed_address_street_name': 'keys suite',\n",
       "     'party_number': '0',\n",
       "     'parsed_address_country': 'france'}},\n",
       "   {'_index': 'party_data',\n",
       "    '_id': '1aaa830286b11bb2dbc369e78cfed06d',\n",
       "    '_score': 14.537462,\n",
       "    '_source': {'parsed_address_street_name': 'keys suite',\n",
       "     'party_number': '00416016075021',\n",
       "     'parsed_address_country': '0'}},\n",
       "   {'_index': 'party_data',\n",
       "    '_id': '9e7c17e450af8541e4294418d9aabddd',\n",
       "    '_score': 14.537462,\n",
       "    '_source': {'parsed_address_street_name': 'keys suite',\n",
       "     'party_number': '0',\n",
       "     'parsed_address_country': 'sahara western'}}]}}"
      ]
     },
     "execution_count": 61,
     "metadata": {},
     "output_type": "execute_result"
    }
   ],
   "source": [
    "response"
   ]
  },
  {
   "cell_type": "code",
   "execution_count": 68,
   "metadata": {},
   "outputs": [],
   "source": [
    "location_sorted = external_parties_train.sort_values(['parsed_address_country','parsed_address_state','parsed_address_city','parsed_address_street_name'])"
   ]
  },
  {
   "cell_type": "code",
   "execution_count": 71,
   "metadata": {},
   "outputs": [],
   "source": [
    "location_sorted[location_sorted['parsed_address_country']=='italy'].to_csv('italy.csv')"
   ]
  },
  {
   "cell_type": "markdown",
   "metadata": {},
   "source": [
    "## DEAD ZONE"
   ]
  },
  {
   "cell_type": "code",
   "execution_count": 18,
   "metadata": {},
   "outputs": [
    {
     "data": {
      "text/plain": [
       "<coroutine object main at 0x71d76766d940>"
      ]
     },
     "execution_count": 18,
     "metadata": {},
     "output_type": "execute_result"
    }
   ],
   "source": [
    "from opensearchpy import AsyncOpenSearch, AsyncHttpConnection\n",
    "\n",
    "async def main():\n",
    "    client = AsyncOpenSearch(\n",
    "        hosts = [{'host': 'https://search-ubs-open-search-qgmxboaarfs4i2p2gde7yw2xjq.us-west-2.es.amazonaws.com', 'port': 9200}],\n",
    "        http_auth = ('admin', 'admin'),\n",
    "        use_ssl = True,\n",
    "        verify_certs = False,\n",
    "        ssl_show_warn = False,\n",
    "        connection_class = AsyncHttpConnection\n",
    "    )\n",
    "    try:\n",
    "        info = client.info().close()\n",
    "        print(\"Connected to OpenSearch\")\n",
    "        print(info.)\n",
    "    except Exception as e:\n",
    "        print(f\"Error connecting to OpenSearch: {e}\")\n",
    "\n",
    "main()"
   ]
  },
  {
   "cell_type": "code",
   "execution_count": 28,
   "metadata": {},
   "outputs": [
    {
     "ename": "AuthenticationException",
     "evalue": "AuthenticationException(401, 'Unauthorized')",
     "output_type": "error",
     "traceback": [
      "\u001b[0;31m---------------------------------------------------------------------------\u001b[0m",
      "\u001b[0;31mAuthenticationException\u001b[0m                   Traceback (most recent call last)",
      "Cell \u001b[0;32mIn[28], line 7\u001b[0m\n\u001b[1;32m      1\u001b[0m es \u001b[38;5;241m=\u001b[39m Elasticsearch(\n\u001b[1;32m      2\u001b[0m     \u001b[38;5;124m'\u001b[39m\u001b[38;5;124mhttps://search-ubs-open-search-qgmxboaarfs4i2p2gde7yw2xjq.us-west-2.es.amazonaws.com:443/\u001b[39m\u001b[38;5;124m'\u001b[39m,\n\u001b[1;32m      3\u001b[0m     bearer_auth \u001b[38;5;241m=\u001b[39m (\u001b[38;5;124m'\u001b[39m\u001b[38;5;124mnemo\u001b[39m\u001b[38;5;124m'\u001b[39m, \u001b[38;5;124m'\u001b[39m\u001b[38;5;124mUBS@suck10\u001b[39m\u001b[38;5;124m'\u001b[39m),\n\u001b[1;32m      4\u001b[0m     request_timeout\u001b[38;5;241m=\u001b[39m\u001b[38;5;241m10\u001b[39m,\n\u001b[1;32m      5\u001b[0m     verify_certs\u001b[38;5;241m=\u001b[39m\u001b[38;5;28;01mFalse\u001b[39;00m\n\u001b[1;32m      6\u001b[0m )\n\u001b[0;32m----> 7\u001b[0m es\u001b[38;5;241m.\u001b[39minfo()\n",
      "File \u001b[0;32m~/anaconda3/lib/python3.12/site-packages/elasticsearch/_sync/client/utils.py:455\u001b[0m, in \u001b[0;36m_rewrite_parameters.<locals>.wrapper.<locals>.wrapped\u001b[0;34m(*args, **kwargs)\u001b[0m\n\u001b[1;32m    452\u001b[0m         \u001b[38;5;28;01mexcept\u001b[39;00m \u001b[38;5;167;01mKeyError\u001b[39;00m:\n\u001b[1;32m    453\u001b[0m             \u001b[38;5;28;01mpass\u001b[39;00m\n\u001b[0;32m--> 455\u001b[0m \u001b[38;5;28;01mreturn\u001b[39;00m api(\u001b[38;5;241m*\u001b[39margs, \u001b[38;5;241m*\u001b[39m\u001b[38;5;241m*\u001b[39mkwargs)\n",
      "File \u001b[0;32m~/anaconda3/lib/python3.12/site-packages/elasticsearch/_sync/client/__init__.py:2477\u001b[0m, in \u001b[0;36mElasticsearch.info\u001b[0;34m(self, error_trace, filter_path, human, pretty)\u001b[0m\n\u001b[1;32m   2475\u001b[0m     __query[\u001b[38;5;124m\"\u001b[39m\u001b[38;5;124mpretty\u001b[39m\u001b[38;5;124m\"\u001b[39m] \u001b[38;5;241m=\u001b[39m pretty\n\u001b[1;32m   2476\u001b[0m __headers \u001b[38;5;241m=\u001b[39m {\u001b[38;5;124m\"\u001b[39m\u001b[38;5;124maccept\u001b[39m\u001b[38;5;124m\"\u001b[39m: \u001b[38;5;124m\"\u001b[39m\u001b[38;5;124mapplication/json\u001b[39m\u001b[38;5;124m\"\u001b[39m}\n\u001b[0;32m-> 2477\u001b[0m \u001b[38;5;28;01mreturn\u001b[39;00m \u001b[38;5;28mself\u001b[39m\u001b[38;5;241m.\u001b[39mperform_request(  \u001b[38;5;66;03m# type: ignore[return-value]\u001b[39;00m\n\u001b[1;32m   2478\u001b[0m     \u001b[38;5;124m\"\u001b[39m\u001b[38;5;124mGET\u001b[39m\u001b[38;5;124m\"\u001b[39m,\n\u001b[1;32m   2479\u001b[0m     __path,\n\u001b[1;32m   2480\u001b[0m     params\u001b[38;5;241m=\u001b[39m__query,\n\u001b[1;32m   2481\u001b[0m     headers\u001b[38;5;241m=\u001b[39m__headers,\n\u001b[1;32m   2482\u001b[0m     endpoint_id\u001b[38;5;241m=\u001b[39m\u001b[38;5;124m\"\u001b[39m\u001b[38;5;124minfo\u001b[39m\u001b[38;5;124m\"\u001b[39m,\n\u001b[1;32m   2483\u001b[0m     path_parts\u001b[38;5;241m=\u001b[39m__path_parts,\n\u001b[1;32m   2484\u001b[0m )\n",
      "File \u001b[0;32m~/anaconda3/lib/python3.12/site-packages/elasticsearch/_sync/client/_base.py:271\u001b[0m, in \u001b[0;36mBaseClient.perform_request\u001b[0;34m(self, method, path, params, headers, body, endpoint_id, path_parts)\u001b[0m\n\u001b[1;32m    255\u001b[0m \u001b[38;5;28;01mdef\u001b[39;00m \u001b[38;5;21mperform_request\u001b[39m(\n\u001b[1;32m    256\u001b[0m     \u001b[38;5;28mself\u001b[39m,\n\u001b[1;32m    257\u001b[0m     method: \u001b[38;5;28mstr\u001b[39m,\n\u001b[0;32m   (...)\u001b[0m\n\u001b[1;32m    264\u001b[0m     path_parts: Optional[Mapping[\u001b[38;5;28mstr\u001b[39m, Any]] \u001b[38;5;241m=\u001b[39m \u001b[38;5;28;01mNone\u001b[39;00m,\n\u001b[1;32m    265\u001b[0m ) \u001b[38;5;241m-\u001b[39m\u001b[38;5;241m>\u001b[39m ApiResponse[Any]:\n\u001b[1;32m    266\u001b[0m     \u001b[38;5;28;01mwith\u001b[39;00m \u001b[38;5;28mself\u001b[39m\u001b[38;5;241m.\u001b[39m_otel\u001b[38;5;241m.\u001b[39mspan(\n\u001b[1;32m    267\u001b[0m         method,\n\u001b[1;32m    268\u001b[0m         endpoint_id\u001b[38;5;241m=\u001b[39mendpoint_id,\n\u001b[1;32m    269\u001b[0m         path_parts\u001b[38;5;241m=\u001b[39mpath_parts \u001b[38;5;129;01mor\u001b[39;00m {},\n\u001b[1;32m    270\u001b[0m     ) \u001b[38;5;28;01mas\u001b[39;00m otel_span:\n\u001b[0;32m--> 271\u001b[0m         response \u001b[38;5;241m=\u001b[39m \u001b[38;5;28mself\u001b[39m\u001b[38;5;241m.\u001b[39m_perform_request(\n\u001b[1;32m    272\u001b[0m             method,\n\u001b[1;32m    273\u001b[0m             path,\n\u001b[1;32m    274\u001b[0m             params\u001b[38;5;241m=\u001b[39mparams,\n\u001b[1;32m    275\u001b[0m             headers\u001b[38;5;241m=\u001b[39mheaders,\n\u001b[1;32m    276\u001b[0m             body\u001b[38;5;241m=\u001b[39mbody,\n\u001b[1;32m    277\u001b[0m             otel_span\u001b[38;5;241m=\u001b[39motel_span,\n\u001b[1;32m    278\u001b[0m         )\n\u001b[1;32m    279\u001b[0m         otel_span\u001b[38;5;241m.\u001b[39mset_elastic_cloud_metadata(response\u001b[38;5;241m.\u001b[39mmeta\u001b[38;5;241m.\u001b[39mheaders)\n\u001b[1;32m    280\u001b[0m         \u001b[38;5;28;01mreturn\u001b[39;00m response\n",
      "File \u001b[0;32m~/anaconda3/lib/python3.12/site-packages/elasticsearch/_sync/client/_base.py:352\u001b[0m, in \u001b[0;36mBaseClient._perform_request\u001b[0;34m(self, method, path, params, headers, body, otel_span)\u001b[0m\n\u001b[1;32m    349\u001b[0m         \u001b[38;5;28;01mexcept\u001b[39;00m (\u001b[38;5;167;01mValueError\u001b[39;00m, \u001b[38;5;167;01mKeyError\u001b[39;00m, \u001b[38;5;167;01mTypeError\u001b[39;00m):\n\u001b[1;32m    350\u001b[0m             \u001b[38;5;28;01mpass\u001b[39;00m\n\u001b[0;32m--> 352\u001b[0m     \u001b[38;5;28;01mraise\u001b[39;00m HTTP_EXCEPTIONS\u001b[38;5;241m.\u001b[39mget(meta\u001b[38;5;241m.\u001b[39mstatus, ApiError)(\n\u001b[1;32m    353\u001b[0m         message\u001b[38;5;241m=\u001b[39mmessage, meta\u001b[38;5;241m=\u001b[39mmeta, body\u001b[38;5;241m=\u001b[39mresp_body\n\u001b[1;32m    354\u001b[0m     )\n\u001b[1;32m    356\u001b[0m \u001b[38;5;66;03m# 'X-Elastic-Product: Elasticsearch' should be on every 2XX response.\u001b[39;00m\n\u001b[1;32m    357\u001b[0m \u001b[38;5;28;01mif\u001b[39;00m \u001b[38;5;129;01mnot\u001b[39;00m \u001b[38;5;28mself\u001b[39m\u001b[38;5;241m.\u001b[39m_verified_elasticsearch:\n\u001b[1;32m    358\u001b[0m     \u001b[38;5;66;03m# If the header is set we mark the server as verified.\u001b[39;00m\n",
      "\u001b[0;31mAuthenticationException\u001b[0m: AuthenticationException(401, 'Unauthorized')"
     ]
    }
   ],
   "source": [
    "es = Elasticsearch(\n",
    "    'https://search-ubs-open-search-qgmxboaarfs4i2p2gde7yw2xjq.us-west-2.es.amazonaws.com:443/',\n",
    "    bearer_auth = ('nemo', 'UBS@suck10'),\n",
    "    request_timeout=10,\n",
    "    verify_certs=False\n",
    ")\n",
    "es.info()"
   ]
  },
  {
   "cell_type": "code",
   "execution_count": 30,
   "metadata": {},
   "outputs": [
    {
     "name": "stdout",
     "output_type": "stream",
     "text": [
      "Error connecting to OpenSearch: ConnectionError(<urllib3.connection.HTTPSConnection object at 0x71d75c77bdd0>: Failed to resolve 'https://search-ubs-open-search-qgmxboaarfs4i2p2gde7yw2xjq.aos.us-west-2.on.aws:443/' ([Errno -2] Name or service not known)) caused by: NameResolutionError(<urllib3.connection.HTTPSConnection object at 0x71d75c77bdd0>: Failed to resolve 'https://search-ubs-open-search-qgmxboaarfs4i2p2gde7yw2xjq.aos.us-west-2.on.aws:443/' ([Errno -2] Name or service not known))\n"
     ]
    }
   ],
   "source": [
    "from opensearchpy import OpenSearch, Urllib3HttpConnection\n",
    "\n",
    "client = OpenSearch(\n",
    "    hosts = [{'host': 'https://search-ubs-open-search-qgmxboaarfs4i2p2gde7yw2xjq.aos.us-west-2.on.aws:443/' }],\n",
    "    http_auth = ('nemo', 'UBS@suck10'),\n",
    "    use_ssl = True,\n",
    "    verify_certs = False,\n",
    "    ssl_show_warn = False,\n",
    "    connection_class = Urllib3HttpConnection\n",
    ")\n",
    "\n",
    "try:\n",
    "    info = client.info()\n",
    "    print(\"Connected to OpenSearch\")\n",
    "    print(info)\n",
    "except Exception as e:\n",
    "    print(f\"Error connecting to OpenSearch: {e}\")"
   ]
  },
  {
   "cell_type": "code",
   "execution_count": 13,
   "metadata": {},
   "outputs": [
    {
     "name": "stdout",
     "output_type": "stream",
     "text": [
      "Error connecting to OpenSearch: ConnectionError(<urllib3.connection.HTTPSConnection object at 0x79feb7f65cc0>: Failed to resolve 'https://search-ubs-open-search-qgmxboaarfs4i2p2gde7yw2xjq.us-west-2.es.amazonaws.com' ([Errno -2] Name or service not known)) caused by: NameResolutionError(<urllib3.connection.HTTPSConnection object at 0x79feb7f65cc0>: Failed to resolve 'https://search-ubs-open-search-qgmxboaarfs4i2p2gde7yw2xjq.us-west-2.es.amazonaws.com' ([Errno -2] Name or service not known))\n"
     ]
    }
   ],
   "source": [
    "from opensearchpy import OpenSearch\n",
    "\n",
    "# Replace with your cluster details\n",
    "host = \"https://search-ubs-open-search-qgmxboaarfs4i2p2gde7yw2xjq.us-west-2.es.amazonaws.com\"\n",
    "port = 443\n",
    "\n",
    "# Create the OpenSearch client\n",
    "client = OpenSearch(\n",
    "    hosts=[{'host': host, 'port': port}],\n",
    "    https_auth=auth,\n",
    "    use_ssl=True,\n",
    "    verify_certs=True,  # Set to False if SSL issues are suspected\n",
    "    timeout=30\n",
    ")\n",
    "\n",
    "# Test connection\n",
    "try:\n",
    "    info = client.info()\n",
    "    print(\"Connected to OpenSearch:\", info)\n",
    "except Exception as e:\n",
    "    print(\"Error connecting to OpenSearch:\", e)"
   ]
  },
  {
   "cell_type": "code",
   "execution_count": 14,
   "metadata": {},
   "outputs": [
    {
     "name": "stderr",
     "output_type": "stream",
     "text": [
      "/home/neo/.local/lib/python3.10/site-packages/opensearchpy/connection/http_urllib3.py:214: UserWarning: Connecting to https://[https://search-ubs-open-search-qgmxboaarfs4i2p2gde7yw2xjq.us-west-2.es.amazonaws.com]:443 using SSL with verify_certs=False is insecure.\n",
      "  warnings.warn(\n"
     ]
    }
   ],
   "source": [
    "client = OpenSearch(\n",
    "    hosts=[{'host': host, 'port': port}],\n",
    "    http_auth=auth,\n",
    "    use_ssl=True,\n",
    "    verify_certs=False  # Disable for testing only\n",
    ")"
   ]
  },
  {
   "cell_type": "code",
   "execution_count": 15,
   "metadata": {},
   "outputs": [
    {
     "name": "stdout",
     "output_type": "stream",
     "text": [
      "Error connecting to OpenSearch: ConnectionError(<urllib3.connection.HTTPSConnection object at 0x79feb7f18850>: Failed to resolve 'https://search-ubs-open-search-qgmxboaarfs4i2p2gde7yw2xjq.us-west-2.es.amazonaws.com' ([Errno -2] Name or service not known)) caused by: NameResolutionError(<urllib3.connection.HTTPSConnection object at 0x79feb7f18850>: Failed to resolve 'https://search-ubs-open-search-qgmxboaarfs4i2p2gde7yw2xjq.us-west-2.es.amazonaws.com' ([Errno -2] Name or service not known))\n"
     ]
    }
   ],
   "source": [
    "try:\n",
    "    info = client.info()\n",
    "    print(\"Connected to OpenSearch:\", info)\n",
    "except Exception as e:\n",
    "    print(\"Error connecting to OpenSearch:\", e)"
   ]
  },
  {
   "cell_type": "code",
   "execution_count": null,
   "metadata": {},
   "outputs": [],
   "source": [
    "es = Elasticsearch()"
   ]
  }
 ],
 "metadata": {
  "kernelspec": {
   "display_name": "base",
   "language": "python",
   "name": "python3"
  },
  "language_info": {
   "codemirror_mode": {
    "name": "ipython",
    "version": 3
   },
   "file_extension": ".py",
   "mimetype": "text/x-python",
   "name": "python",
   "nbconvert_exporter": "python",
   "pygments_lexer": "ipython3",
   "version": "3.12.4"
  }
 },
 "nbformat": 4,
 "nbformat_minor": 2
}
